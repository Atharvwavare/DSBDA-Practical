{
 "cells": [
  {
   "cell_type": "code",
   "execution_count": 1,
   "id": "0931f416-ea61-476a-abe8-0ca243a32253",
   "metadata": {},
   "outputs": [],
   "source": [
    "# Name:-Atharv Wavare\n",
    "# Roll No.:- 68\n",
    "# Class:-TE(IT)\n",
    "# Practical 8:-Create a review scrapper for any ecommerce website to fetch real time comments, reviews, ratings, comment tags, customer name using Python."
   ]
  },
  {
   "cell_type": "code",
   "execution_count": 6,
   "id": "72bbe3f7-6e04-4587-93af-b7529e76576c",
   "metadata": {},
   "outputs": [],
   "source": [
    "import requests\n",
    "from  bs4 import BeautifulSoup\n",
    "import time\n",
    "import pandas as pd"
   ]
  },
  {
   "cell_type": "code",
   "execution_count": null,
   "id": "e6298f23-00b5-4ee6-bc05-7585411ffeb6",
   "metadata": {},
   "outputs": [],
   "source": [
    "request1 = requests.get(\"https://www.flipkart.com/hp-victus-intel-core-i5-12th-gen-16-gb-512-gb-ssd-windows-11-home-4-graphics-nvidia-geforce-rtx-2050-15-fa1351tx-gaming-laptop/p/itm9ad6649afe111?pid=COMHY8KVNMU2S5QQ&lid=LSTCOMHY8KVNMU2S5QQTET1DH&marketplace=FLIPKART&q=victus+gaming&store=6bo%2Fb5g&srno=s_1_2&otracker=AS_QueryStore_OrganicAutoSuggest_1_3_na_na_na&otracker1=AS_QueryStore_OrganicAutoSuggest_1_3_na_na_na&fm=organic&iid=379a6a36-c6a8-4662-8ea3-d9e0151ed7cd.COMHY8KVNMU2S5QQ.SEARCH&ppt=pp&ppn=pp&ssid=v9pr8uh5fk0000001745257749734&qH=5c9db7773c58ed3b\")\n",
    "request1\n",
    "\n"
   ]
  },
  {
   "cell_type": "code",
   "execution_count": 13,
   "id": "4f84bb05-4879-481a-a938-085485e108d4",
   "metadata": {},
   "outputs": [],
   "source": [
    "soup = bs4.BeautifulSoup(request1.text)"
   ]
  },
  {
   "cell_type": "code",
   "execution_count": 26,
   "id": "b5a56496-40ce-4008-8796-866feeca482c",
   "metadata": {},
   "outputs": [
    {
     "name": "stdout",
     "output_type": "stream",
     "text": [
      "Good laptop by HP. Only heated too much similar as braiin mood of HP employee.READ MORE\n",
      "\n",
      "\n",
      "It is a good laptop in a good budgetREAD MORE\n",
      "\n",
      "\n",
      "good productREAD MORE\n",
      "\n",
      "\n",
      "Very nice productREAD MORE\n",
      "\n",
      "\n",
      "Awesome all rounder laptop. I bought it almost 2 weeks ago. Believe me you'll never disappoint after buying this beast. If u use it for normal use the battery will give you almost 4 hours. If gaming then 2-3 hours as it's a high performance laptop. Thank youREAD MORE\n",
      "\n",
      "\n",
      "Nice productREAD MORE\n",
      "\n",
      "\n",
      "Design is great but one main problem is ms office not available and sound quality very lowREAD MORE\n",
      "\n",
      "\n",
      "Got this trmendous laptop in 48 K only, I am lucky to have such performance laptop and a brand hp victus.READ MORE\n",
      "\n",
      "\n",
      "Nice productREAD MORE\n",
      "\n",
      "\n",
      "I am a software Engineer and I basically use coding and programming language and web development according to my suggestion this product is best for coding and gaming this product is good battery backup almost 2 hours this laptop performance next level in the price range Thank you 🙏READ MORE\n",
      "\n",
      "\n"
     ]
    }
   ],
   "source": [
    "# fetching reviews/comments\n",
    "reviews = soup.findAll('div' ,{'class': 'ZmyHeo'} )\n",
    "for review in reviews:\n",
    "    print(review.get_text()+ \"\\n\\n\")"
   ]
  },
  {
   "cell_type": "code",
   "execution_count": 32,
   "id": "63c0a992-8548-4ea7-8351-72e63a07d185",
   "metadata": {},
   "outputs": [
    {
     "name": "stdout",
     "output_type": "stream",
     "text": [
      "4.3\n"
     ]
    }
   ],
   "source": [
    "# fetching overall ratings\n",
    "overall_ratings = soup.find('div',{'class':'ipqd2A'}).get_text();\n",
    "print(overall_ratings)"
   ]
  },
  {
   "cell_type": "code",
   "execution_count": 35,
   "id": "c0a388e6-ea33-4b17-8171-844893bd7e15",
   "metadata": {},
   "outputs": [
    {
     "name": "stdout",
     "output_type": "stream",
     "text": [
      "4Value-for-moneyGood laptop by HP. Only heated too much similar as braiin mood of HP employee.READ MOREFlipkart CustomerCertified Buyer, Dehradun11 months ago19450PermalinkReport Abuse\n",
      "\n",
      "\n",
      "5Classy productIt is a good laptop in a good budgetREAD MOREdenish jagani denishCertified Buyer, Surat11 months ago11331PermalinkReport Abuse\n",
      "\n",
      "\n",
      "5Fabulous!good productREAD MORERohit GargCertified Buyer, Khanna11 months ago7221PermalinkReport Abuse\n",
      "\n",
      "\n",
      "5Worth every pennyVery nice productREAD MORENikhil Gaurav Certified Buyer, Muzaffarpur9 months ago162PermalinkReport Abuse\n",
      "\n",
      "\n",
      "5Mind-blowing purchaseAwesome all rounder laptop. I bought it almost 2 weeks ago. Believe me you'll never disappoint after buying this beast. If u use it for normal use the battery will give you almost 4 hours. If gaming then 2-3 hours as it's a high performance laptop. Thank youREAD MORERAJARSHI GHOSHCertified Buyer, Paschim Medinipur District8 months ago298PermalinkReport Abuse\n",
      "\n",
      "\n",
      "4Very GoodNice productREAD MORESidharth RajuCertified Buyer, Karamuck9 months ago50PermalinkReport Abuse\n",
      "\n",
      "\n",
      "3Does the jobDesign is great but one main problem is ms office not available and sound quality very lowREAD MORESonu SahuCertified Buyer, Chatra8 months ago70PermalinkReport Abuse\n",
      "\n",
      "\n",
      "5Perfect product!Got this trmendous laptop in 48 K only, I am lucky to have such performance laptop and a brand hp victus.READ MORESunil ChavanCertified Buyer, Tuljapur7 months ago154PermalinkReport Abuse\n",
      "\n",
      "\n",
      "4Good quality productNice productREAD MOREKamal  RastogiCertified Buyer, Lucknow District10 months ago61PermalinkReport Abuse\n",
      "\n",
      "\n",
      "5Best in the market!I am a software Engineer and I basically use coding and programming language and web development according to my suggestion this product is best for coding and gaming this product is good battery backup almost 2 hours this laptop performance next level in the price range Thank you 🙏READ MOREAbhay PrasadCertified Buyer, Gurgaon District6 months ago40PermalinkReport Abuse\n",
      "\n",
      "\n"
     ]
    }
   ],
   "source": [
    "# individual ratings\n",
    "individual_ratings = soup.findAll('div' ,{'class': 'col EPCmJX'} )\n",
    "for indi_rating in individual_ratings:\n",
    "    print(indi_rating.get_text()+ \"\\n\\n\")"
   ]
  },
  {
   "cell_type": "code",
   "execution_count": 36,
   "id": "231f8092-5c34-45a0-9017-fbfb607cf095",
   "metadata": {},
   "outputs": [
    {
     "name": "stdout",
     "output_type": "stream",
     "text": [
      "HP Victus Intel Core i5 12th Gen - (16 GB/512 GB SSD/Windows 11 Home/4 GB Graphics/NVIDIA GeForce RTX 2050) 15-fa1351TX Gaming Laptop  (15.6 inch, Performance Blue)\n"
     ]
    }
   ],
   "source": [
    "# fetching product name\n",
    "product_name = soup.find('span',{'class':'VU-ZEz'}).get_text();\n",
    "print(product_name)"
   ]
  },
  {
   "cell_type": "code",
   "execution_count": 38,
   "id": "7352c049-92d2-4242-8d1f-67e58257f6f8",
   "metadata": {},
   "outputs": [
    {
     "name": "stdout",
     "output_type": "stream",
     "text": [
      "₹58,990₹76,35422% off\n"
     ]
    }
   ],
   "source": [
    "# fetching sale price,actual price and off of product\n",
    "price = soup.find('div',{'class':'hl05eU'}).get_text();\n",
    "print(price)"
   ]
  },
  {
   "cell_type": "code",
   "execution_count": 45,
   "id": "428c09b2-7dbf-45ee-96ed-0e35d698a138",
   "metadata": {},
   "outputs": [
    {
     "name": "stdout",
     "output_type": "stream",
     "text": [
      "SpecificationsGeneralSales PackageLaptop, Power Adaptor, User Guide, Warranty DocumentsModel Number15-fa1351TXPart NumberA18QBPAModel Name15-fa1351TXSeriesVictusColorPerformance BlueTypeGaming LaptopSuitable ForGamingBattery BackupUpto 6 Hours and 30 MinutesMS Office ProvidedNoProcessor And Memory FeaturesDedicated Graphic Memory TypeDDR4Dedicated Graphic Memory Capacity4 GBProcessor BrandIntelProcessor NameCore i5Processor Generation12th GenSSDYesSSD Capacity512 GBRAM16 GBRAM TypeDDR4Graphic ProcessorNVIDIA GeForce RTX 2050Storage TypeSSDOperating SystemOperating SystemWindows 11 HomeSupported Operating SystemWindows 11Display And Audio FeaturesTouchscreenNoScreen Size39.62 cm (15.6 inch)Screen Resolution1920 x 1080 PixelsConnectivity FeaturesBluetoothv5.3Additional FeaturesDisk DriveNot AvailableWarrantyWarranty Summary1 Year Onsite WarrantyWarranty Service TypeOnsiteCovered in WarrantyManufacturing DamageNot Covered in WarrantyPhysical DamageDomestic Warranty1 YearRead More\n",
      "\n",
      "\n"
     ]
    }
   ],
   "source": [
    "# Specifications on product\n",
    "Specifications = soup.findAll('div' ,{'class': '_3Fm-hO'} )\n",
    "for Specification in Specifications:\n",
    "    print(Specification.get_text()+ \"\\n\\n\")"
   ]
  },
  {
   "cell_type": "code",
   "execution_count": 53,
   "id": "a04b27d8-cbfe-4a30-9a32-0aac24d94870",
   "metadata": {},
   "outputs": [
    {
     "name": "stdout",
     "output_type": "stream",
     "text": [
      "Flipkart Customer\n",
      "\n",
      "denish jagani denish\n",
      "\n",
      "Rohit Garg\n",
      "\n",
      "Nikhil Gaurav \n",
      "\n",
      "RAJARSHI GHOSH\n",
      "\n",
      "Sidharth Raju\n",
      "\n",
      "Sonu Sahu\n",
      "\n",
      "Sunil Chavan\n",
      "\n",
      "Kamal  Rastogi\n",
      "\n",
      "Abhay Prasad\n",
      "\n"
     ]
    }
   ],
   "source": [
    "# Customer names\n",
    "Customer_names = soup.findAll('p' ,{'class': '_2NsDsF AwS1CA'} )\n",
    "for cust_name in Customer_names:\n",
    "    print(cust_name.get_text()+ \"\\n\")"
   ]
  },
  {
   "cell_type": "code",
   "execution_count": null,
   "id": "d0304b1f-f36a-4a81-aca8-ab494d8ef475",
   "metadata": {},
   "outputs": [],
   "source": []
  }
 ],
 "metadata": {
  "kernelspec": {
   "display_name": "Python 3 (ipykernel)",
   "language": "python",
   "name": "python3"
  },
  "language_info": {
   "codemirror_mode": {
    "name": "ipython",
    "version": 3
   },
   "file_extension": ".py",
   "mimetype": "text/x-python",
   "name": "python",
   "nbconvert_exporter": "python",
   "pygments_lexer": "ipython3",
   "version": "3.12.0"
  }
 },
 "nbformat": 4,
 "nbformat_minor": 5
}
